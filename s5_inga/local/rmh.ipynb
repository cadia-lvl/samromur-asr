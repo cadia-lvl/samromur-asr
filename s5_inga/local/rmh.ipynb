{
 "cells": [
  {
   "cell_type": "markdown",
   "metadata": {},
   "source": [
    "## Extraction of RMH 2018 texts from xml"
   ]
  },
  {
   "cell_type": "code",
   "execution_count": 50,
   "metadata": {},
   "outputs": [],
   "source": [
    "# The location of RMH to read\n",
    "rmh_dir = '/work/helgasvala/data/raw/risamalheild'\n",
    "\n",
    "# The location of where to write the results\n",
    "target_dir = '/work/inga/data/rmh'"
   ]
  },
  {
   "cell_type": "code",
   "execution_count": 51,
   "metadata": {},
   "outputs": [
    {
     "output_type": "stream",
     "name": "stdout",
     "text": [
      "/work/helgasvala/data/raw/risamalheild\n/work/inga/data/rmh\n"
     ]
    }
   ],
   "source": [
    "from pathlib import Path\n",
    "\n",
    "rmh_dir = Path(rmh_dir)\n",
    "print(rmh_dir)\n",
    "target_dir = Path(target_dir)\n",
    "print(target_dir)\n",
    "assert rmh_dir.exists()\n",
    "if not target_dir.exists():\n",
    "    target_dir.mkdir()"
   ]
  },
  {
   "cell_type": "code",
   "execution_count": 52,
   "metadata": {},
   "outputs": [],
   "source": [
    "from concurrent.futures import ProcessPoolExecutor\n",
    "from tqdm import tqdm\n",
    "from pathlib import Path\n",
    "from typing import Sequence\n",
    "from xml.etree import ElementTree as ET\n",
    "\n",
    "def tei_read_file(path: Path) -> Sequence[str]:\n",
    "    \"\"\"Reads a tei file to extract the contents. Hand-tailored to reading the RMH.\n",
    "\n",
    "    Adjusted code from xml_tools.py from Róbert Kjaran <robert@kjaran.com>\n",
    "\n",
    "    :param path: A pathlib.Path to the .tei file to read.\\n\n",
    "    :return: A List of sentences as defined in the .tei file.\n",
    "    \"\"\"\n",
    "    NS = {'a': 'http://www.tei-c.org/ns/1.0'}\n",
    "    root = ET.parse(str(path)).getroot()\n",
    "    sentences = []\n",
    "    # We gather all the paragraphs from the body, avoiding the divs\n",
    "    for paragraph_node in root.findall('.//a:body//a:p', NS):\n",
    "        for sentence_node in paragraph_node.findall('.//a:s', NS):\n",
    "            tokens = [(token_node.text, token_node.attrib['type'])\n",
    "                      for token_node in sentence_node.findall('./*')]\n",
    "            sentence: List[str] = []\n",
    "            for i, token in enumerate(tokens):\n",
    "                if token[0] is None:\n",
    "                    continue\n",
    "                sentence.append(token[0] + ' ')\n",
    "            sentences.append(''.join(sentence).strip() + '\\n')\n",
    "    return sentences\n",
    "\n",
    "\n",
    "def tei_read(paths: Sequence[Path], out_path: Path) -> bool:\n",
    "    \"\"\"Reads a sequence of Path of TEI files from RMH and writes to a single file.\n",
    "    Uses multiple threads.\n",
    "\n",
    "    :param paths: A Sequence of pathlib.Path of .tei files to read.\\n\n",
    "    :param out_path: pathlib.Path to write the contents to.\\n\n",
    "    :return: True if successful.\n",
    "    \"\"\"\n",
    "    with out_path.open('w+') as f_out:\n",
    "        with ProcessPoolExecutor(max_workers=14) as executor:\n",
    "            results = tqdm(executor.map(\n",
    "                tei_read_file,\n",
    "                paths,\n",
    "                chunksize=200),\n",
    "                total=len(paths))\n",
    "            for result in results:\n",
    "                f_out.write(''.join(result))\n",
    "    return True"
   ]
  },
  {
   "cell_type": "code",
   "execution_count": 69,
   "metadata": {},
   "outputs": [
    {
     "output_type": "stream",
     "name": "stderr",
     "text": [
      "100%|██████████| 23880/23880 [00:15<00:00, 1526.81it/s]\n",
      "100%|██████████| 774/774 [00:04<00:00, 185.70it/s]\n",
      "100%|██████████| 6092/6092 [00:29<00:00, 203.26it/s]\n",
      "100%|██████████| 69991/69991 [05:31<00:00, 211.18it/s]\n",
      "100%|██████████| 48556/48556 [04:52<00:00, 165.75it/s]\n",
      "100%|██████████| 12292/12292 [01:14<00:00, 165.36it/s]\n",
      "100%|██████████| 15/15 [00:00<00:00, 346.58it/s]\n",
      "100%|██████████| 7314/7314 [00:33<00:00, 218.05it/s]\n",
      "100%|██████████| 8444/8444 [00:36<00:00, 233.22it/s]\n",
      "100%|██████████| 205849/205849 [20:37<00:00, 166.38it/s]\n",
      "100%|██████████| 12450/12450 [01:18<00:00, 158.49it/s]\n",
      "100%|██████████| 5377/5377 [00:34<00:00, 157.05it/s] \n",
      "100%|██████████| 39695/39695 [04:35<00:00, 144.15it/s]\n",
      "100%|██████████| 1705/1705 [00:05<00:00, 288.86it/s]\n",
      "100%|██████████| 2679/2679 [00:07<00:00, 362.76it/s] \n",
      "100%|██████████| 1027987/1027987 [1:35:09<00:00, 180.06it/s]\n",
      "100%|██████████| 115/115 [01:01<00:00,  1.86it/s]\n",
      "100%|██████████| 1003304/1003304 [1:27:24<00:00, 191.29it/s]\n",
      "100%|██████████| 9110/9110 [00:52<00:00, 172.61it/s]\n",
      "100%|██████████| 918/918 [00:00<00:00, 1114.73it/s]\n",
      "100%|██████████| 5698/5698 [00:44<00:00, 128.87it/s]\n",
      "100%|██████████| 21679/21679 [01:55<00:00, 187.43it/s]\n",
      "100%|██████████| 826/826 [00:04<00:00, 195.11it/s]\n",
      "100%|██████████| 14874/14874 [00:55<00:00, 269.42it/s]\n",
      "100%|██████████| 3849/3849 [00:24<00:00, 159.24it/s] \n",
      "100%|██████████| 4091/4091 [00:11<00:00, 368.01it/s]\n",
      "100%|██████████| 9769/9769 [01:19<00:00, 122.76it/s]\n",
      "100%|██████████| 41908/41908 [03:49<00:00, 182.54it/s]\n",
      "100%|██████████| 261022/261022 [23:00<00:00, 189.09it/s]\n",
      "100%|██████████| 2/2 [00:00<00:00, 178.46it/s]\n",
      "100%|██████████| 12783/12783 [00:59<00:00, 215.00it/s]\n",
      "100%|██████████| 538/538 [00:06<00:00, 77.69it/s]\n",
      "100%|██████████| 4377/4377 [00:05<00:00, 732.67it/s]\n",
      "100%|██████████| 1011/1011 [00:00<00:00, 1212.04it/s]\n",
      "100%|██████████| 328/328 [00:01<00:00, 249.84it/s]\n",
      "100%|██████████| 259570/259570 [24:22<00:00, 177.52it/s]\n",
      "100%|██████████| 393338/393338 [31:16<00:00, 209.64it/s]\n",
      "100%|██████████| 46071/46071 [03:25<00:00, 223.84it/s]\n",
      "100%|██████████| 11462/11462 [01:19<00:00, 144.00it/s]\n",
      "100%|██████████| 75786/75786 [06:47<00:00, 186.10it/s]\n",
      "100%|██████████| 143232/143232 [13:11<00:00, 181.07it/s]\n",
      "100%|██████████| 58189/58189 [04:29<00:00, 216.31it/s]\n",
      "100%|██████████| 19470/19470 [01:40<00:00, 192.78it/s]\n",
      "100%|██████████| 12962/12962 [01:33<00:00, 138.72it/s]\n",
      "100%|██████████| 580592/580592 [51:47<00:00, 186.84it/s]\n",
      "100%|██████████| 12038/12038 [00:46<00:00, 257.54it/s]\n",
      "100%|██████████| 57723/57723 [05:16<00:00, 182.27it/s]\n",
      "100%|██████████| 20449/20449 [01:21<00:00, 250.61it/s]\n"
     ]
    }
   ],
   "source": [
    "# When choosing only from a few specific data sources\n",
    "from glob import glob\n",
    "import os\n",
    "import random\n",
    "\n",
    "dirsDepth2 = glob(f\"{rmh_dir}/*/*/\")\n",
    "for d2 in dirsDepth2:\n",
    "    parent = Path(d2).parent\n",
    "    parent_base = os.path.basename(os.path.normpath(parent))\n",
    "    name = os.path.basename(os.path.normpath(d2))\n",
    "    if Path(d2).is_dir():\n",
    "        xml_files = glob(f\"{d2}/**/*.xml\", recursive=True)\n",
    "\n",
    "        outdir=Path(target_dir).joinpath(parent_base)\n",
    "        Path(outdir).mkdir(parents=True, exist_ok=True)\n",
    "        rmh_txt = Path(outdir).joinpath(f'{name}.txt')\n",
    "        \n",
    "        tei_read([Path(tei_file) for tei_file in xml_files], rmh_txt)"
   ]
  },
  {
   "cell_type": "code",
   "execution_count": null,
   "metadata": {},
   "outputs": [],
   "source": []
  }
 ],
 "metadata": {
  "kernelspec": {
   "display_name": "Python 3",
   "language": "python",
   "name": "python3"
  },
  "language_info": {
   "codemirror_mode": {
    "name": "ipython",
    "version": 3
   },
   "file_extension": ".py",
   "mimetype": "text/x-python",
   "name": "python",
   "nbconvert_exporter": "python",
   "pygments_lexer": "ipython3",
   "version": "3.7.7-final"
  }
 },
 "nbformat": 4,
 "nbformat_minor": 2
}